{
  "nbformat": 4,
  "nbformat_minor": 0,
  "metadata": {
    "colab": {
      "provenance": [],
      "authorship_tag": "ABX9TyNg/EU0Y51afUsKRvk0XDav",
      "include_colab_link": true
    },
    "kernelspec": {
      "name": "python3",
      "display_name": "Python 3"
    },
    "language_info": {
      "name": "python"
    }
  },
  "cells": [
    {
      "cell_type": "markdown",
      "metadata": {
        "id": "view-in-github",
        "colab_type": "text"
      },
      "source": [
        "<a href=\"https://colab.research.google.com/github/Ubaid811/python-programming/blob/main/Python_Prpgramming.ipynb\" target=\"_parent\"><img src=\"https://colab.research.google.com/assets/colab-badge.svg\" alt=\"Open In Colab\"/></a>"
      ]
    },
    {
      "cell_type": "markdown",
      "source": [
        "# **Python**:\n",
        "\n",
        "\n",
        "\n",
        "- python a very papular programming language\n",
        "- it's easy to use\n",
        "- provide high level of community\n",
        "- syntex is very easy\n",
        "- High level language ( human easy to understand)\n",
        "- python provide builld-in library\n",
        "- used in different filled\n",
        "  - Data Science\n",
        "  - Data Analytics\n",
        "  - Machine Learning\n",
        "  - Cycbersceurity\n",
        "  - AI\n",
        "  - Blockchain\n",
        "  - Web Development\n",
        "  -etc\n",
        "\n"
      ],
      "metadata": {
        "id": "K-o6bpnWASh9"
      }
    },
    {
      "cell_type": "markdown",
      "source": [
        "# **Variable**\n",
        "Variable is just contain value, is like a container who contain some data\n",
        "variable is assigne to value so we can resued as we need\n",
        "\n",
        "## Method to Used variable\n",
        "- Used *underscore(_)*, *Letter(alphabet)*, *number*\n",
        "- Example,\n",
        "### Right Way\n",
        "- a  = 10,\n",
        "- name = \"Ubaid\",\n",
        "- name_01= \"ubaid\",\n",
        "- address1 = \"khanewale,\n",
        "- c = 23.32,\n",
        "- d = True ,\n",
        "etc\n",
        "\n",
        "### Wrong way to assign value\n",
        "- 1name = \"ubaid\"\n",
        "  - not used special character who are already specifed like *int,float, char, string, bool*, etc\n",
        "- string = \" This is string\"\n",
        "- int = 10\n",
        "num-student = 10\n",
        "\n",
        "\n",
        "\n",
        "\n"
      ],
      "metadata": {
        "id": "GdLVa1QjCwTf"
      }
    },
    {
      "cell_type": "markdown",
      "source": [
        "# Pthon\n",
        "## Lecture-01\n",
        "Basic of Python"
      ],
      "metadata": {
        "id": "yD7_pbYhJv2B"
      }
    },
    {
      "cell_type": "code",
      "source": [
        "# saving and printing the student name\n",
        "std_name = \"Ubaid\"\n",
        "print(std_name)"
      ],
      "metadata": {
        "colab": {
          "base_uri": "https://localhost:8080/"
        },
        "id": "dyOj07YmJs8O",
        "outputId": "11d21d61-bb53-44ce-967d-23849c610698"
      },
      "execution_count": null,
      "outputs": [
        {
          "output_type": "stream",
          "name": "stdout",
          "text": [
            "Ubaid\n"
          ]
        }
      ]
    },
    {
      "cell_type": "code",
      "source": [
        "# Total number of Student\n",
        "nbr_student = 10\n",
        "print(nbr_student)"
      ],
      "metadata": {
        "colab": {
          "base_uri": "https://localhost:8080/"
        },
        "id": "y0uzrlBDKMtD",
        "outputId": "7b2369e0-32e9-4e8a-b318-a9fd865d87bd"
      },
      "execution_count": null,
      "outputs": [
        {
          "output_type": "stream",
          "name": "stdout",
          "text": [
            "10\n"
          ]
        }
      ]
    },
    {
      "cell_type": "code",
      "source": [
        "# average attendance  of student out of 10\n",
        "attendence =  8.9\n",
        "print(attendence)"
      ],
      "metadata": {
        "colab": {
          "base_uri": "https://localhost:8080/"
        },
        "id": "THbuKL2YKWAZ",
        "outputId": "77d495d7-32a6-4a07-e029-678d06ce8799"
      },
      "execution_count": null,
      "outputs": [
        {
          "output_type": "stream",
          "name": "stdout",
          "text": [
            "8.9\n"
          ]
        }
      ]
    },
    {
      "cell_type": "markdown",
      "source": [
        " # **Data Types**\n",
        " - int,        a = 10\n",
        " - float,      b = 10.3  \n",
        " - boolean,    True/Flase\n",
        " - String  ,   \"Ubaid\"\n",
        " - Complex ,  1 + 3j\n"
      ],
      "metadata": {
        "id": "VLUbv88ELAtJ"
      }
    },
    {
      "cell_type": "markdown",
      "source": [
        "## Operator\n",
        "\n",
        "1. (+) addition\n",
        "2. (-) subtraction\n",
        "3. (*) Multiplication\n",
        "4. (/) division\n",
        "5. (**) exponentiation\n",
        "6. (%) modulus (remainder after division)"
      ],
      "metadata": {
        "id": "7NglGrQpMXUU"
      }
    },
    {
      "cell_type": "code",
      "source": [
        "# Addition\n",
        "a = 10\n",
        "b = 5\n",
        "print(a+b)\n",
        "# or\n",
        "print(10+7)"
      ],
      "metadata": {
        "colab": {
          "base_uri": "https://localhost:8080/"
        },
        "id": "tgZgOD97KxOa",
        "outputId": "72fb9e6e-afe9-48a9-d276-ff3cc7b47f50"
      },
      "execution_count": null,
      "outputs": [
        {
          "output_type": "stream",
          "name": "stdout",
          "text": [
            "15\n",
            "17\n"
          ]
        }
      ]
    },
    {
      "cell_type": "code",
      "source": [
        "# Muliplication\n",
        "a = 12\n",
        "b = 5\n",
        "print(a*b)\n",
        "# or\n",
        "print(10*2)"
      ],
      "metadata": {
        "colab": {
          "base_uri": "https://localhost:8080/"
        },
        "id": "8uMCTe12NRlA",
        "outputId": "aea25935-5795-44c0-9eb4-8ec50f718381"
      },
      "execution_count": null,
      "outputs": [
        {
          "output_type": "stream",
          "name": "stdout",
          "text": [
            "60\n",
            "20\n"
          ]
        }
      ]
    },
    {
      "cell_type": "code",
      "source": [
        "# Subtraction\n",
        "a = 16\n",
        "b= 6\n",
        "print(a - b)\n",
        "#or\n",
        "print(12 - 6)"
      ],
      "metadata": {
        "colab": {
          "base_uri": "https://localhost:8080/"
        },
        "id": "Z4B3Boq7Ndx0",
        "outputId": "2efc758f-9a9a-436e-dd4f-181d37430359"
      },
      "execution_count": null,
      "outputs": [
        {
          "output_type": "stream",
          "name": "stdout",
          "text": [
            "10\n",
            "6\n"
          ]
        }
      ]
    },
    {
      "cell_type": "code",
      "source": [
        "# Division\n",
        "a = 9\n",
        "b = 4\n",
        "print(a / b)\n"
      ],
      "metadata": {
        "colab": {
          "base_uri": "https://localhost:8080/"
        },
        "id": "EO_Cs4sTNu5a",
        "outputId": "60cfdf71-1781-42ff-9dd2-304b32b84dbd"
      },
      "execution_count": null,
      "outputs": [
        {
          "output_type": "stream",
          "name": "stdout",
          "text": [
            "2.25\n"
          ]
        }
      ]
    },
    {
      "cell_type": "code",
      "source": [
        "# Exponentiation\n",
        "\n",
        "print(2**5)"
      ],
      "metadata": {
        "colab": {
          "base_uri": "https://localhost:8080/"
        },
        "id": "ms51wNIUN3kX",
        "outputId": "6805c6b5-83c9-4cfe-cd37-38a899332550"
      },
      "execution_count": null,
      "outputs": [
        {
          "output_type": "stream",
          "name": "stdout",
          "text": [
            "32\n"
          ]
        }
      ]
    },
    {
      "cell_type": "code",
      "source": [
        "# modulus (remainder after division)\n",
        "print(12 % 5)"
      ],
      "metadata": {
        "colab": {
          "base_uri": "https://localhost:8080/"
        },
        "id": "GNvXvp-qOj_7",
        "outputId": "61839347-fc8f-4096-ce71-f820e84e736f"
      },
      "execution_count": null,
      "outputs": [
        {
          "output_type": "stream",
          "name": "stdout",
          "text": [
            "2\n"
          ]
        }
      ]
    },
    {
      "cell_type": "markdown",
      "source": [
        "## Simple Programe to find the Area"
      ],
      "metadata": {
        "id": "VZQIRqx6PAIo"
      }
    },
    {
      "cell_type": "code",
      "source": [
        "length = 12\n",
        "width = 15\n",
        "area = length * width\n",
        "print(area)"
      ],
      "metadata": {
        "colab": {
          "base_uri": "https://localhost:8080/"
        },
        "id": "7hSXasF-OvOX",
        "outputId": "d95ced31-313a-4428-f3f9-cbeae02253cd"
      },
      "execution_count": null,
      "outputs": [
        {
          "output_type": "stream",
          "name": "stdout",
          "text": [
            "180\n"
          ]
        }
      ]
    },
    {
      "cell_type": "markdown",
      "source": [
        "### Swipe the number using third variable\n"
      ],
      "metadata": {
        "id": "XwzkTBtVQFad"
      }
    },
    {
      "cell_type": "code",
      "source": [
        "x = 3\n",
        "y = 9\n",
        "print(\"Before Swping:\")\n",
        "print(\" x is:\",x)\n",
        "print(\" y is:\",y)\n",
        "\n",
        "print(\"---\"*10)\n",
        "print(\"After Swping\")\n",
        "z = x\n",
        "x = y\n",
        "y  =z\n",
        "print(\" x is:\",x)\n",
        "print(\" y is:\",y)"
      ],
      "metadata": {
        "colab": {
          "base_uri": "https://localhost:8080/"
        },
        "id": "qWJhwWj6QNo9",
        "outputId": "aa124490-c181-4e86-f525-402eb79aabaf"
      },
      "execution_count": null,
      "outputs": [
        {
          "output_type": "stream",
          "name": "stdout",
          "text": [
            "Before Swping:\n",
            " x is: 3\n",
            " y is: 9\n",
            "------------------------------\n",
            "After Swping\n",
            " x is: 9\n",
            " y is: 3\n"
          ]
        }
      ]
    },
    {
      "cell_type": "markdown",
      "source": [
        "## String Manipulation\n",
        " - There are diferent method to manipultion with Srting\n",
        " - Ones of them are fallows"
      ],
      "metadata": {
        "id": "mNY09YlYjpFX"
      }
    },
    {
      "cell_type": "code",
      "source": [
        "a  = \"Learn to is a string\"\n",
        "print(a)\n",
        "print(type(a)) # This indicate which type of variable"
      ],
      "metadata": {
        "colab": {
          "base_uri": "https://localhost:8080/"
        },
        "id": "WT7ehw-zjtw1",
        "outputId": "ca4f9254-9d64-4bd5-875e-ae2a642304da"
      },
      "execution_count": 4,
      "outputs": [
        {
          "output_type": "stream",
          "name": "stdout",
          "text": [
            "Learn to is a string\n",
            "<class 'str'>\n"
          ]
        }
      ]
    },
    {
      "cell_type": "markdown",
      "source": [
        "### 01-Upper Case\n",
        "- convert all the letter int Upercase(capital)"
      ],
      "metadata": {
        "id": "gJMY5MaSm1OC"
      }
    },
    {
      "cell_type": "code",
      "source": [
        "a = \"hello word\"\n",
        "print(a.upper())"
      ],
      "metadata": {
        "colab": {
          "base_uri": "https://localhost:8080/"
        },
        "id": "Wvb0qjuEmjBb",
        "outputId": "77e92ddf-4949-461b-8891-de4bc5d2446a"
      },
      "execution_count": 5,
      "outputs": [
        {
          "output_type": "stream",
          "name": "stdout",
          "text": [
            "HELLO WORD\n"
          ]
        }
      ]
    },
    {
      "cell_type": "markdown",
      "source": [
        "### 02-Lower Case\n",
        "- convert all the elements in a variable into lower-case"
      ],
      "metadata": {
        "id": "HdEwJrrbnPXF"
      }
    },
    {
      "cell_type": "code",
      "source": [
        "b = \"HELLO WORD\"\n",
        "print(b)\n",
        "print(b.lower())"
      ],
      "metadata": {
        "colab": {
          "base_uri": "https://localhost:8080/"
        },
        "id": "rv25GUglm03X",
        "outputId": "65d07877-94f5-490b-9877-4e7623c27196"
      },
      "execution_count": 8,
      "outputs": [
        {
          "output_type": "stream",
          "name": "stdout",
          "text": [
            "HELLO WORD\n",
            "hello word\n"
          ]
        }
      ]
    },
    {
      "cell_type": "markdown",
      "source": [
        "### 03-capitalize\n",
        "- convert each word of sentence into capital word"
      ],
      "metadata": {
        "id": "nL9rQ3pBoaCN"
      }
    },
    {
      "cell_type": "code",
      "source": [
        "c = \"your name?\"\n",
        "print(c.capitalize())"
      ],
      "metadata": {
        "colab": {
          "base_uri": "https://localhost:8080/"
        },
        "id": "QSVTSnBZnff0",
        "outputId": "26f026f4-fb15-46f0-d749-d8205163c510"
      },
      "execution_count": 9,
      "outputs": [
        {
          "output_type": "stream",
          "name": "stdout",
          "text": [
            "Your name?\n"
          ]
        }
      ]
    },
    {
      "cell_type": "markdown",
      "source": [
        "### 04-Strip\n",
        "- will remove to white space\n"
      ],
      "metadata": {
        "id": "wtN_yxUmotXQ"
      }
    },
    {
      "cell_type": "code",
      "source": [
        "a = \" your name \"\n",
        "print(a)\n",
        "print(len(a))\n",
        "print(\"After removing white space\")\n",
        "print(a)\n",
        "print(len(a.strip()))"
      ],
      "metadata": {
        "colab": {
          "base_uri": "https://localhost:8080/"
        },
        "id": "hR49ovQ5nh64",
        "outputId": "5fb64696-7daa-4c22-9f6f-d820c4e14485"
      },
      "execution_count": 14,
      "outputs": [
        {
          "output_type": "stream",
          "name": "stdout",
          "text": [
            " your name \n",
            "11\n",
            "After removing white space\n",
            " your name \n",
            "9\n"
          ]
        }
      ]
    },
    {
      "cell_type": "markdown",
      "source": [
        "### 05-Finding"
      ],
      "metadata": {
        "id": "N9WiegoTpjaa"
      }
    },
    {
      "cell_type": "code",
      "source": [
        "c= \"Hello Word\"\n",
        "print(c.find(\"o\")) # it will show the index number( in python index start from 0)"
      ],
      "metadata": {
        "colab": {
          "base_uri": "https://localhost:8080/"
        },
        "id": "bhG_MZJvnhm5",
        "outputId": "de79754c-b486-4d63-e815-e74068796132"
      },
      "execution_count": 17,
      "outputs": [
        {
          "output_type": "stream",
          "name": "stdout",
          "text": [
            "4\n"
          ]
        }
      ]
    },
    {
      "cell_type": "markdown",
      "source": [
        "### 06-Replace"
      ],
      "metadata": {
        "id": "3qVBqRnnnggN"
      }
    },
    {
      "cell_type": "code",
      "source": [
        "d = \"Good Morning\"\n",
        "print(d)\n",
        "print(d.replace(\"Morning\", \"Night\"))"
      ],
      "metadata": {
        "colab": {
          "base_uri": "https://localhost:8080/"
        },
        "id": "O_60PEGTnhNK",
        "outputId": "2282fbca-ea07-48fb-820c-3060a40ffb8a"
      },
      "execution_count": 19,
      "outputs": [
        {
          "output_type": "stream",
          "name": "stdout",
          "text": [
            "Good Morning\n",
            "Good Night\n"
          ]
        }
      ]
    },
    {
      "cell_type": "markdown",
      "source": [
        "### 07-Indexing"
      ],
      "metadata": {
        "id": "Sp76TxLoq4yb"
      }
    },
    {
      "cell_type": "code",
      "source": [
        "a = 1,2,3,4,5,6\n",
        "print(a)\n",
        "\n",
        "print(a[1])"
      ],
      "metadata": {
        "colab": {
          "base_uri": "https://localhost:8080/"
        },
        "id": "g1ly52zNqHAn",
        "outputId": "92f0b739-50b1-4faa-b5a2-027e2bcabf09"
      },
      "execution_count": 21,
      "outputs": [
        {
          "output_type": "stream",
          "name": "stdout",
          "text": [
            "(1, 2, 3, 4, 5, 6)\n",
            "2\n"
          ]
        }
      ]
    },
    {
      "cell_type": "code",
      "source": [
        "name = \"Ubaid\"\n",
        "print(name[3])"
      ],
      "metadata": {
        "colab": {
          "base_uri": "https://localhost:8080/"
        },
        "id": "5lm9hLsOqYVm",
        "outputId": "7e57247d-b173-4999-c787-88cacffb93df"
      },
      "execution_count": 22,
      "outputs": [
        {
          "output_type": "stream",
          "name": "stdout",
          "text": [
            "i\n"
          ]
        }
      ]
    },
    {
      "cell_type": "markdown",
      "source": [
        "### 08- Slicing\n",
        "- select the range of element where you wants to get's"
      ],
      "metadata": {
        "id": "lVtbWkxHrSBZ"
      }
    },
    {
      "cell_type": "code",
      "source": [
        "number =  12,35,23,34,24,13\n",
        "print(number[1:4])  # start from 1 and not included 4"
      ],
      "metadata": {
        "colab": {
          "base_uri": "https://localhost:8080/"
        },
        "id": "9stPCub4rO3c",
        "outputId": "ce84d278-e1b3-4721-caff-e6641a22b32f"
      },
      "execution_count": 26,
      "outputs": [
        {
          "output_type": "stream",
          "name": "stdout",
          "text": [
            "(35, 23, 34)\n"
          ]
        }
      ]
    },
    {
      "cell_type": "markdown",
      "source": [
        "# List\n",
        "- List hold the difeferent data types\n",
        "- Orderd\n",
        "- Allow Duplicates\n",
        "- Mutable ( Elements should be change, removed etc)\n",
        "- syntex []"
      ],
      "metadata": {
        "id": "Bc74JnwwsyYf"
      }
    },
    {
      "cell_type": "code",
      "source": [
        "list_1 = [12, \"Ubaid\", True, 30]\n",
        "print(list_1)\n",
        "print(type(list_1))"
      ],
      "metadata": {
        "colab": {
          "base_uri": "https://localhost:8080/"
        },
        "id": "vWTjb7RIrpGU",
        "outputId": "cc48dbd2-e72a-41a2-d134-1f1741fab33d"
      },
      "execution_count": 29,
      "outputs": [
        {
          "output_type": "stream",
          "name": "stdout",
          "text": [
            "[12, 'Ubaid', True, 30]\n",
            "<class 'list'>\n"
          ]
        }
      ]
    },
    {
      "cell_type": "code",
      "source": [
        "# Allow Duplicates\n",
        "list_2 = [12, 'class', False, 12, 'class']\n",
        "print(list_2)\n",
        "\n",
        "# Change the element\n",
        "list_2[0] =  9\n",
        "list_2[4] = \"rol_nbr\"    # List change the element through index\n",
        "print(list_2)"
      ],
      "metadata": {
        "colab": {
          "base_uri": "https://localhost:8080/"
        },
        "id": "YTmENPg_vtjC",
        "outputId": "249b661c-5217-4902-9301-07ca1ea7c07c"
      },
      "execution_count": 37,
      "outputs": [
        {
          "output_type": "stream",
          "name": "stdout",
          "text": [
            "[12, 'class', False, 12, 'class']\n",
            "[9, 'class', False, 12, 'rol_nbr']\n"
          ]
        }
      ]
    },
    {
      "cell_type": "markdown",
      "source": [
        "#  Tuple\n",
        "- Tuple just like as list but key difference\n",
        "- tupe are **Immutable**, it's can't change elememts, removed, or modified\n",
        "- it have **ordered**\n",
        "- Allow duplicates\n",
        "- store different data types\n",
        "- declar as ()"
      ],
      "metadata": {
        "id": "C1YJzHIMy7PN"
      }
    },
    {
      "cell_type": "code",
      "source": [
        "tuple_1 = (3, \"name\", True, 23.3)\n",
        "print(tuple_1)\n",
        "print(type(tuple_1))\n",
        "\n",
        "\n",
        "# Duplicates\n",
        "tup = (12, \"nmae\", 12, 'class', True, 'class')\n",
        "print(tup)"
      ],
      "metadata": {
        "colab": {
          "base_uri": "https://localhost:8080/"
        },
        "id": "MyYPF4Z3wENd",
        "outputId": "78e86606-977c-4eff-8655-ca4cbd910535"
      },
      "execution_count": 41,
      "outputs": [
        {
          "output_type": "stream",
          "name": "stdout",
          "text": [
            "(3, 'name', True, 23.3)\n",
            "<class 'tuple'>\n",
            "(12, 'nmae', 12, 'class', True, 'class')\n"
          ]
        }
      ]
    },
    {
      "cell_type": "markdown",
      "source": [
        "# Set\n",
        "- set are not allow  **Duplicates**\n",
        "- Un-Orderd\n",
        "- Mutable\n",
        "- Declar []"
      ],
      "metadata": {
        "id": "7TDISNMF1ooc"
      }
    },
    {
      "cell_type": "code",
      "source": [
        "my_set = {1,2,\"ubaid\", True}\n",
        "print(type(my_set))"
      ],
      "metadata": {
        "colab": {
          "base_uri": "https://localhost:8080/"
        },
        "id": "QBEOFlqd1PiG",
        "outputId": "080aa519-ea32-411f-b45b-891ad18feed0"
      },
      "execution_count": 44,
      "outputs": [
        {
          "output_type": "stream",
          "name": "stdout",
          "text": [
            "<class 'set'>\n"
          ]
        }
      ]
    },
    {
      "cell_type": "code",
      "source": [
        "# Adding Element\n",
        "my_set  = {1,3,5}\n",
        "print(my_set)\n",
        "my_set.add(7)\n",
        "print(my_set)\n",
        "\n",
        "\n",
        "# remove element\n",
        "my_set.remove(3)\n",
        "print(my_set)\n",
        "\n"
      ],
      "metadata": {
        "colab": {
          "base_uri": "https://localhost:8080/"
        },
        "id": "FAPm2-2M2mbL",
        "outputId": "965a31dc-744e-4667-a1c2-5d4110a78856"
      },
      "execution_count": 54,
      "outputs": [
        {
          "output_type": "stream",
          "name": "stdout",
          "text": [
            "{1, 3, 5}\n",
            "{1, 3, 5, 7}\n",
            "{1, 5, 7}\n"
          ]
        }
      ]
    },
    {
      "cell_type": "code",
      "source": [
        "# Creating a set\n",
        "my_set = {10, 20, 30, 40, 50}\n",
        "\n",
        "# Using pop() to remove and return an arbitrary element\n",
        "removed_element = my_set.pop()\n",
        "\n",
        "print(\"Removed element:\", removed_element) # it removed the last element\n",
        "print(\"Updated set:\", my_set)  # The set with the removed element\n"
      ],
      "metadata": {
        "colab": {
          "base_uri": "https://localhost:8080/"
        },
        "id": "cz3oXXa-280u",
        "outputId": "f901f25e-7b13-44d3-ca73-e4f07a07af7a"
      },
      "execution_count": 57,
      "outputs": [
        {
          "output_type": "stream",
          "name": "stdout",
          "text": [
            "Removed element: 50\n",
            "Updated set: {20, 40, 10, 30}\n"
          ]
        }
      ]
    },
    {
      "cell_type": "markdown",
      "source": [
        "# Set methods:\n",
        "1. add(): Adds an element to the set.\n",
        "2. remove(): Removes an element (raises an error if not found).\n",
        "3. discard(): Removes an element (does not raise an error if not found).\n",
        "4. pop(): Removes and returns an arbitrary element.\n",
        "5. union(): Returns the union of sets.\n",
        "6. intersection(): Returns the intersection of sets.\n",
        "7. difference(): Returns the difference between sets.\n",
        "8. symmetric_difference(): Returns the symmetric difference between sets."
      ],
      "metadata": {
        "id": "OJ9hWbVP4dwJ"
      }
    },
    {
      "cell_type": "markdown",
      "source": [
        "# Dictionary\n",
        "- No Duplicates\n",
        "- Mutable\n",
        "- unorderd\n",
        "- key- value pair"
      ],
      "metadata": {
        "id": "FVHTJ7094uQ1"
      }
    },
    {
      "cell_type": "code",
      "source": [
        "my_dict = {\"name\":\"Ubaid\", \"class\":\"BSCS\", \"rol_nbr\":12}\n",
        "print(my_dict)"
      ],
      "metadata": {
        "colab": {
          "base_uri": "https://localhost:8080/"
        },
        "id": "hMrLqv1F4I4p",
        "outputId": "8ae8e078-c858-4011-c879-150375e6aa3d"
      },
      "execution_count": 59,
      "outputs": [
        {
          "output_type": "stream",
          "name": "stdout",
          "text": [
            "{'name': 'Ubaid', 'class': 'BSCS', 'rol_nbr': 12}\n"
          ]
        }
      ]
    },
    {
      "cell_type": "code",
      "source": [
        "# you can change the element through key\n",
        "my_dict['name'] = \"Arif\"\n",
        "print(my_dict)"
      ],
      "metadata": {
        "colab": {
          "base_uri": "https://localhost:8080/"
        },
        "id": "-ZASQ3XJ5Nl8",
        "outputId": "be7e5999-7068-4c18-c0b7-7db839d5273d"
      },
      "execution_count": 62,
      "outputs": [
        {
          "output_type": "stream",
          "name": "stdout",
          "text": [
            "{'name': 'Arif', 'class': 'BSCS', 'rol_nbr': 12}\n"
          ]
        }
      ]
    },
    {
      "cell_type": "code",
      "source": [
        "for i in my_dict.values():  # gets the value\n",
        "  print(i)\n",
        "\n",
        "\n",
        "print(\"--\"*12)\n",
        "\n",
        "\n",
        "# gets the key\n",
        "for key in my_dict.keys():\n",
        "  print(key)\n"
      ],
      "metadata": {
        "colab": {
          "base_uri": "https://localhost:8080/"
        },
        "id": "P4RueTrE5XC_",
        "outputId": "c50c35c8-d4ee-47a9-f640-a35421dad098"
      },
      "execution_count": 67,
      "outputs": [
        {
          "output_type": "stream",
          "name": "stdout",
          "text": [
            "Arif\n",
            "BSCS\n",
            "12\n",
            "------------------------\n",
            "name\n",
            "class\n",
            "rol_nbr\n"
          ]
        }
      ]
    },
    {
      "cell_type": "code",
      "source": [],
      "metadata": {
        "id": "Cg6kzWTV54Vb"
      },
      "execution_count": null,
      "outputs": []
    }
  ]
}